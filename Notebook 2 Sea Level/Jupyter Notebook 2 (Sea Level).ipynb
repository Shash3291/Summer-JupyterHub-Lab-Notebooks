{
 "cells": [
  {
   "cell_type": "code",
   "execution_count": 1,
   "id": "96564ccf",
   "metadata": {},
   "outputs": [],
   "source": [
    "import matplotlib.pyplot as plt\n",
    "import matplotlib.dates as mdates\n",
    "plt.style.use('fivethirtyeight')\n",
    "from matplotlib.pyplot import figure\n",
    "\n",
    "import numpy as np\n",
    "import datetime\n",
    "\n",
    "import math\n",
    "\n",
    "import pandas as pd\n",
    "from scipy import stats\n",
    "plt.rcParams['figure.dpi'] = 300\n",
    "import matplotlib.pyplot as plt\n",
    "import matplotlib.image as mpimg"
   ]
  },
  {
   "cell_type": "markdown",
   "id": "8a480af1",
   "metadata": {},
   "source": [
    "# Sea Level Lab\n",
    "Learning Objectives \n",
    "\n",
    "1. Reading Graphs and creating conclusions based on data graphs/maps\n",
    "2. Reflection"
   ]
  },
  {
   "cell_type": "markdown",
   "id": "4ff7711b",
   "metadata": {},
   "source": [
    "# 1. Reading Graphs/Heat Maps"
   ]
  },
  {
   "cell_type": "markdown",
   "id": "92783f09",
   "metadata": {},
   "source": [
    "Welcome! In this lab we will focus on the interpretation of data on the topic of sea level change, specifically in the Carribean region south of the US in order to make conclusions based on the topic of **Climate Change**. Your objective will be to look at these GIFS below and create conlusions based on all the information provided in these interactive heat maps and location information."
   ]
  },
  {
   "cell_type": "markdown",
   "id": "ebb2d8cd",
   "metadata": {},
   "source": [
    "<img src=\"SeaLevelanomaly_timelapse1993.gif\" width=\"750\" align=\"center\">"
   ]
  },
  {
   "cell_type": "markdown",
   "id": "fd9c6b56",
   "metadata": {},
   "source": [
    "Above is a visualization on sea level anomalies in the Carribean in 1993"
   ]
  },
  {
   "cell_type": "markdown",
   "id": "6a0a1ef2",
   "metadata": {},
   "source": [
    "<img src=\"SeaLevelanomaly_timelapse2018_2020_2.gif\" width=\"750\" align=\"center\">"
   ]
  },
  {
   "cell_type": "markdown",
   "id": "33127cd8",
   "metadata": {},
   "source": [
    "Above here is a visualization on sea level anomalies in the Carribean from 2018 to 2020"
   ]
  },
  {
   "cell_type": "markdown",
   "id": "ec690c19",
   "metadata": {},
   "source": [
    "Question 1.1) What do you notice the trend was in the first heat map from 1993 in terms of sea level anomalies? What conclusions can you make on this data?\n",
    "\n",
    "Answer this question in the markdown cell below."
   ]
  },
  {
   "cell_type": "markdown",
   "id": "10b6ffb1",
   "metadata": {},
   "source": []
  },
  {
   "cell_type": "markdown",
   "id": "d7ceb14a",
   "metadata": {},
   "source": [
    "Question 1.2) What do you notice the trend was in the second heat map from 2018 to 2020 in terms of sea level anomalies? What conclusions can you make on this data?\n",
    "\n",
    "Answer this question in the markdown cell below."
   ]
  },
  {
   "cell_type": "markdown",
   "id": "3a1ad1c4",
   "metadata": {},
   "source": []
  },
  {
   "cell_type": "markdown",
   "id": "6ca3f312",
   "metadata": {},
   "source": [
    "Question 1.3) What are the differences between the two heap map visualizations? What conclusions can you make about climate change as a whole\n",
    "\n",
    "Answer this question in the markdown cell below."
   ]
  },
  {
   "cell_type": "markdown",
   "id": "4ed7b359",
   "metadata": {},
   "source": []
  },
  {
   "cell_type": "markdown",
   "id": "48e40ccc",
   "metadata": {},
   "source": [
    "Below is a mp4 file showing the sea level anamoly information by month from 1993 onward aswell as location information. If it is not displayed already, run the cell below."
   ]
  },
  {
   "cell_type": "code",
   "execution_count": 8,
   "id": "98bd43f8",
   "metadata": {
    "scrolled": true
   },
   "outputs": [
    {
     "data": {
      "text/html": [
       "<video src=\"sea_level_anomaly1993-2021.mp4\" controls  >\n",
       "      Your browser does not support the <code>video</code> element.\n",
       "    </video>"
      ],
      "text/plain": [
       "<IPython.core.display.Video object>"
      ]
     },
     "execution_count": 8,
     "metadata": {},
     "output_type": "execute_result"
    }
   ],
   "source": [
    "from IPython.display import Video\n",
    "\n",
    "Video(\"sea_level_anomaly1993-2021.mp4\")"
   ]
  },
  {
   "cell_type": "markdown",
   "id": "760dcdfe",
   "metadata": {},
   "source": [
    "Question 1.4) What does this visualization show that the previous ones you looked at did not? Is this visualization easier to interpret as a result? What conclusions can you make after watching this time lapse?\n",
    "\n",
    "Answer this question in the markdown cell below."
   ]
  },
  {
   "cell_type": "markdown",
   "id": "7e8da93a",
   "metadata": {},
   "source": []
  },
  {
   "cell_type": "markdown",
   "id": "57c5c501",
   "metadata": {},
   "source": [
    "# 2) Reflection Questions\n",
    "In the cell below, comment on your experience with this lab\n",
    "\n",
    "1) Is the lab interesting? if applicable, which problem is most interesting or least interesting?\n",
    "\n",
    "2) Is the lab difficult? if applicable, which problem is mostly hard for you?\n",
    "\n",
    "3) How much time did you spend on lab outside of the class?\n",
    "\n",
    "4) Any suggestions/comments on the lab and class in general?"
   ]
  },
  {
   "cell_type": "markdown",
   "id": "5306f117",
   "metadata": {},
   "source": []
  }
 ],
 "metadata": {
  "kernelspec": {
   "display_name": "Python 3 (ipykernel)",
   "language": "python",
   "name": "python3"
  },
  "language_info": {
   "codemirror_mode": {
    "name": "ipython",
    "version": 3
   },
   "file_extension": ".py",
   "mimetype": "text/x-python",
   "name": "python",
   "nbconvert_exporter": "python",
   "pygments_lexer": "ipython3",
   "version": "3.9.12"
  }
 },
 "nbformat": 4,
 "nbformat_minor": 5
}
