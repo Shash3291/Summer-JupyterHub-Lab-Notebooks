{
 "cells": [
  {
   "cell_type": "code",
   "execution_count": 1,
   "id": "967d39d5",
   "metadata": {},
   "outputs": [],
   "source": [
    "import matplotlib.pyplot as plt\n",
    "import matplotlib.dates as mdates\n",
    "plt.style.use('fivethirtyeight')\n",
    "from matplotlib.pyplot import figure\n",
    "\n",
    "import numpy as np\n",
    "import datetime\n",
    "\n",
    "import math\n",
    "\n",
    "import pandas as pd\n",
    "from scipy import stats\n",
    "plt.rcParams['figure.dpi'] = 300\n",
    "\n",
    "from datascience import *"
   ]
  },
  {
   "cell_type": "markdown",
   "id": "f2e50ad2",
   "metadata": {},
   "source": [
    "# Droughts Lab\n",
    "Learning Objective \n",
    "\n",
    "1. Reading Tables /  Plotting Graphs based on Data Tables\n",
    "2. Reflection Questions"
   ]
  },
  {
   "cell_type": "markdown",
   "id": "b69af1db",
   "metadata": {},
   "source": [
    "# Welcome To This Lab!\n",
    "\n",
    "In this lab we will be discussing **Droughts** and **Wildfires** and looking at datasets as we dive deeper into the repercussions of climate change and determining if a noteable pattern can be discerned from looking at data from throughout the world. A drought is typically looked at as a deficiency of precipitation over an extended period of time (usually a season or more), resulting in a water shortage.” Droughts occur in many places around the world, even here in the US where the southwestern portion and even western portion of the US experiences droughts as you could see in the news over the past few years. Below is the data set we will be taking a closer look at, simply run the cell below to get started with the lab!"
   ]
  },
  {
   "cell_type": "markdown",
   "id": "c3af4783",
   "metadata": {},
   "source": [
    "![Droughts](https://thumbs.dreamstime.com/b/climate-change-drought-land-water-lake-86857635.jpg)"
   ]
  },
  {
   "cell_type": "code",
   "execution_count": 10,
   "id": "2dd6a3f8",
   "metadata": {},
   "outputs": [
    {
     "data": {
      "text/html": [
       "<table border=\"1\" class=\"dataframe\">\n",
       "    <thead>\n",
       "        <tr>\n",
       "            <th>Dis No</th> <th>Year</th> <th>Seq</th> <th>Glide</th> <th>Disaster Group</th> <th>Disaster Subgroup</th> <th>Disaster Type</th> <th>Disaster Subtype</th> <th>Disaster Subsubtype</th> <th>Event Name</th> <th>Country</th> <th>ISO</th> <th>Region</th> <th>Continent</th> <th>Location</th> <th>Origin</th> <th>Associated Dis</th> <th>Associated Dis2</th> <th>OFDA Response</th> <th>Appeal</th> <th>Declaration</th> <th>Aid Contribution</th> <th>Dis Mag Value</th> <th>Dis Mag Scale</th> <th>Latitude</th> <th>Longitude</th> <th>Local Time</th> <th>River Basin</th> <th>Start Year</th> <th>Start Month</th> <th>Start Day</th> <th>End Year</th> <th>End Month</th> <th>End Day</th> <th>Total Deaths</th> <th>No Injured</th> <th>No Affected</th> <th>No Homeless</th> <th>Total Affected</th> <th>Reconstruction Costs ('000 US$)</th> <th>Reconstruction Costs, Adjusted ('000 US$)</th> <th>Insured Damages ('000 US$)</th> <th>Insured Damages, Adjusted ('000 US$)</th> <th>Total Damages ('000 US$)</th> <th>Total Damages, Adjusted ('000 US$)</th> <th>CPI</th> <th>Adm Level</th> <th>Admin1 Code</th> <th>Admin2 Code</th> <th>Geo Locations</th>\n",
       "        </tr>\n",
       "    </thead>\n",
       "    <tbody>\n",
       "        <tr>\n",
       "            <td>1900-9002-CPV</td> <td>1900</td> <td>9002</td> <td>nan  </td> <td>Natural       </td> <td>Climatological   </td> <td>Drought      </td> <td>Drought         </td> <td>nan                </td> <td>nan       </td> <td>Cabo Verde   </td> <td>CPV </td> <td>Western Africa  </td> <td>Africa   </td> <td>Countrywide                            </td> <td>nan   </td> <td>Famine        </td> <td>nan            </td> <td>nan          </td> <td>No    </td> <td>No         </td> <td>nan             </td> <td>nan          </td> <td>Km2          </td> <td>nan     </td> <td>nan      </td> <td>nan       </td> <td>nan        </td> <td>1900      </td> <td>nan        </td> <td>nan      </td> <td>1900    </td> <td>nan      </td> <td>nan    </td> <td>11000       </td> <td>nan       </td> <td>nan        </td> <td>nan        </td> <td>nan           </td> <td>nan                            </td> <td>nan                                      </td> <td>nan                       </td> <td>nan                                 </td> <td>nan                     </td> <td>nan                               </td> <td>3.07709</td> <td>nan      </td> <td>nan        </td> <td>nan        </td> <td>nan          </td>\n",
       "        </tr>\n",
       "        <tr>\n",
       "            <td>1900-9001-IND</td> <td>1900</td> <td>9001</td> <td>nan  </td> <td>Natural       </td> <td>Climatological   </td> <td>Drought      </td> <td>Drought         </td> <td>nan                </td> <td>nan       </td> <td>India        </td> <td>IND </td> <td>Southern Asia   </td> <td>Asia     </td> <td>Bengal                                 </td> <td>nan   </td> <td>nan           </td> <td>nan            </td> <td>nan          </td> <td>No    </td> <td>No         </td> <td>nan             </td> <td>nan          </td> <td>Km2          </td> <td>nan     </td> <td>nan      </td> <td>nan       </td> <td>nan        </td> <td>1900      </td> <td>nan        </td> <td>nan      </td> <td>1900    </td> <td>nan      </td> <td>nan    </td> <td>1.25e+06    </td> <td>nan       </td> <td>nan        </td> <td>nan        </td> <td>nan           </td> <td>nan                            </td> <td>nan                                      </td> <td>nan                       </td> <td>nan                                 </td> <td>nan                     </td> <td>nan                               </td> <td>3.07709</td> <td>nan      </td> <td>nan        </td> <td>nan        </td> <td>nan          </td>\n",
       "        </tr>\n",
       "        <tr>\n",
       "            <td>1910-9006-BFA</td> <td>1910</td> <td>9006</td> <td>nan  </td> <td>Natural       </td> <td>Climatological   </td> <td>Drought      </td> <td>Drought         </td> <td>nan                </td> <td>nan       </td> <td>Burkina Faso </td> <td>BFA </td> <td>Western Africa  </td> <td>Africa   </td> <td>nan                                    </td> <td>nan   </td> <td>nan           </td> <td>nan            </td> <td>nan          </td> <td>nan   </td> <td>nan        </td> <td>nan             </td> <td>nan          </td> <td>Km2          </td> <td>nan     </td> <td>nan      </td> <td>nan       </td> <td>nan        </td> <td>1910      </td> <td>nan        </td> <td>nan      </td> <td>1914    </td> <td>nan      </td> <td>nan    </td> <td>nan         </td> <td>nan       </td> <td>nan        </td> <td>nan        </td> <td>nan           </td> <td>nan                            </td> <td>nan                                      </td> <td>nan                       </td> <td>nan                                 </td> <td>nan                     </td> <td>nan                               </td> <td>3.44634</td> <td>nan      </td> <td>nan        </td> <td>nan        </td> <td>nan          </td>\n",
       "        </tr>\n",
       "        <tr>\n",
       "            <td>1910-9006-CPV</td> <td>1910</td> <td>9006</td> <td>nan  </td> <td>Natural       </td> <td>Climatological   </td> <td>Drought      </td> <td>Drought         </td> <td>nan                </td> <td>nan       </td> <td>Cabo Verde   </td> <td>CPV </td> <td>Western Africa  </td> <td>Africa   </td> <td>nan                                    </td> <td>nan   </td> <td>nan           </td> <td>nan            </td> <td>nan          </td> <td>nan   </td> <td>nan        </td> <td>nan             </td> <td>nan          </td> <td>Km2          </td> <td>nan     </td> <td>nan      </td> <td>nan       </td> <td>nan        </td> <td>1910      </td> <td>nan        </td> <td>nan      </td> <td>1914    </td> <td>nan      </td> <td>nan    </td> <td>nan         </td> <td>nan       </td> <td>nan        </td> <td>nan        </td> <td>nan           </td> <td>nan                            </td> <td>nan                                      </td> <td>nan                       </td> <td>nan                                 </td> <td>nan                     </td> <td>nan                               </td> <td>3.44634</td> <td>nan      </td> <td>nan        </td> <td>nan        </td> <td>nan          </td>\n",
       "        </tr>\n",
       "        <tr>\n",
       "            <td>1910-9006-GMB</td> <td>1910</td> <td>9006</td> <td>nan  </td> <td>Natural       </td> <td>Climatological   </td> <td>Drought      </td> <td>Drought         </td> <td>nan                </td> <td>nan       </td> <td>Gambia (the) </td> <td>GMB </td> <td>Western Africa  </td> <td>Africa   </td> <td>nan                                    </td> <td>nan   </td> <td>nan           </td> <td>nan            </td> <td>nan          </td> <td>nan   </td> <td>nan        </td> <td>nan             </td> <td>nan          </td> <td>Km2          </td> <td>nan     </td> <td>nan      </td> <td>nan       </td> <td>nan        </td> <td>1910      </td> <td>nan        </td> <td>nan      </td> <td>1914    </td> <td>nan      </td> <td>nan    </td> <td>nan         </td> <td>nan       </td> <td>nan        </td> <td>nan        </td> <td>nan           </td> <td>nan                            </td> <td>nan                                      </td> <td>nan                       </td> <td>nan                                 </td> <td>nan                     </td> <td>nan                               </td> <td>3.44634</td> <td>nan      </td> <td>nan        </td> <td>nan        </td> <td>nan          </td>\n",
       "        </tr>\n",
       "        <tr>\n",
       "            <td>1910-9006-GNB</td> <td>1910</td> <td>9006</td> <td>nan  </td> <td>Natural       </td> <td>Climatological   </td> <td>Drought      </td> <td>Drought         </td> <td>nan                </td> <td>nan       </td> <td>Guinea-Bissau</td> <td>GNB </td> <td>Western Africa  </td> <td>Africa   </td> <td>nan                                    </td> <td>nan   </td> <td>nan           </td> <td>nan            </td> <td>nan          </td> <td>nan   </td> <td>nan        </td> <td>nan             </td> <td>nan          </td> <td>Km2          </td> <td>nan     </td> <td>nan      </td> <td>nan       </td> <td>nan        </td> <td>1910      </td> <td>nan        </td> <td>nan      </td> <td>1914    </td> <td>nan      </td> <td>nan    </td> <td>nan         </td> <td>nan       </td> <td>nan        </td> <td>nan        </td> <td>nan           </td> <td>nan                            </td> <td>nan                                      </td> <td>nan                       </td> <td>nan                                 </td> <td>nan                     </td> <td>nan                               </td> <td>3.44634</td> <td>nan      </td> <td>nan        </td> <td>nan        </td> <td>nan          </td>\n",
       "        </tr>\n",
       "        <tr>\n",
       "            <td>1911-0018-CAN</td> <td>1911</td> <td>18  </td> <td>nan  </td> <td>Natural       </td> <td>Climatological   </td> <td>Wildfire     </td> <td>Forest fire     </td> <td>nan                </td> <td>nan       </td> <td>Canada       </td> <td>CAN </td> <td>Northern America</td> <td>Americas </td> <td>Cochrane (and Northern Region), Ontario</td> <td>nan   </td> <td>nan           </td> <td>nan            </td> <td>nan          </td> <td>nan   </td> <td>nan        </td> <td>nan             </td> <td>1.29499e+06  </td> <td>Km2          </td> <td>nan     </td> <td>nan      </td> <td>nan       </td> <td>nan        </td> <td>1911      </td> <td>7          </td> <td>11       </td> <td>1911    </td> <td>7        </td> <td>11     </td> <td>73          </td> <td>nan       </td> <td>nan        </td> <td>200        </td> <td>200           </td> <td>nan                            </td> <td>nan                                      </td> <td>nan                       </td> <td>nan                                 </td> <td>nan                     </td> <td>nan                               </td> <td>3.44634</td> <td>nan      </td> <td>nan        </td> <td>nan        </td> <td>nan          </td>\n",
       "        </tr>\n",
       "        <tr>\n",
       "            <td>1919-9006-AIA</td> <td>1919</td> <td>9006</td> <td>nan  </td> <td>Natural       </td> <td>Climatological   </td> <td>Drought      </td> <td>Drought         </td> <td>nan                </td> <td>nan       </td> <td>Anguilla     </td> <td>AIA </td> <td>Caribbean       </td> <td>Americas </td> <td>nan                                    </td> <td>nan   </td> <td>nan           </td> <td>nan            </td> <td>nan          </td> <td>nan   </td> <td>nan        </td> <td>nan             </td> <td>nan          </td> <td>Km2          </td> <td>nan     </td> <td>nan      </td> <td>nan       </td> <td>nan        </td> <td>1919      </td> <td>nan        </td> <td>nan      </td> <td>1923    </td> <td>nan      </td> <td>nan    </td> <td>nan         </td> <td>nan       </td> <td>nan        </td> <td>nan        </td> <td>nan           </td> <td>nan                            </td> <td>nan                                      </td> <td>nan                       </td> <td>nan                                 </td> <td>nan                     </td> <td>nan                               </td> <td>6.41266</td> <td>nan      </td> <td>nan        </td> <td>nan        </td> <td>nan          </td>\n",
       "        </tr>\n",
       "        <tr>\n",
       "            <td>1920-9004-CPV</td> <td>1920</td> <td>9004</td> <td>nan  </td> <td>Natural       </td> <td>Climatological   </td> <td>Drought      </td> <td>Drought         </td> <td>nan                </td> <td>nan       </td> <td>Cabo Verde   </td> <td>CPV </td> <td>Western Africa  </td> <td>Africa   </td> <td>Countrywide                            </td> <td>nan   </td> <td>Famine        </td> <td>nan            </td> <td>nan          </td> <td>nan   </td> <td>nan        </td> <td>nan             </td> <td>nan          </td> <td>Km2          </td> <td>nan     </td> <td>nan      </td> <td>nan       </td> <td>nan        </td> <td>1920      </td> <td>nan        </td> <td>nan      </td> <td>1920    </td> <td>nan      </td> <td>nan    </td> <td>24000       </td> <td>nan       </td> <td>nan        </td> <td>nan        </td> <td>nan           </td> <td>nan                            </td> <td>nan                                      </td> <td>nan                       </td> <td>nan                                 </td> <td>nan                     </td> <td>nan                               </td> <td>7.40963</td> <td>nan      </td> <td>nan        </td> <td>nan        </td> <td>nan          </td>\n",
       "        </tr>\n",
       "        <tr>\n",
       "            <td>1920-9003-CHN</td> <td>1920</td> <td>9003</td> <td>nan  </td> <td>Natural       </td> <td>Climatological   </td> <td>Drought      </td> <td>Drought         </td> <td>nan                </td> <td>nan       </td> <td>China        </td> <td>CHN </td> <td>Eastern Asia    </td> <td>Asia     </td> <td>North                                  </td> <td>nan   </td> <td>nan           </td> <td>nan            </td> <td>nan          </td> <td>nan   </td> <td>nan        </td> <td>nan             </td> <td>nan          </td> <td>Km2          </td> <td>nan     </td> <td>nan      </td> <td>nan       </td> <td>nan        </td> <td>1920      </td> <td>nan        </td> <td>nan      </td> <td>1920    </td> <td>nan      </td> <td>nan    </td> <td>500000      </td> <td>nan       </td> <td>2e+07      </td> <td>nan        </td> <td>2e+07         </td> <td>nan                            </td> <td>nan                                      </td> <td>nan                       </td> <td>nan                                 </td> <td>nan                     </td> <td>nan                               </td> <td>7.40963</td> <td>nan      </td> <td>nan        </td> <td>nan        </td> <td>nan          </td>\n",
       "        </tr>\n",
       "    </tbody>\n",
       "</table>\n",
       "<p>... (1259 rows omitted)</p>"
      ],
      "text/plain": [
       "Dis No        | Year | Seq  | Glide | Disaster Group | Disaster Subgroup | Disaster Type | Disaster Subtype | Disaster Subsubtype | Event Name | Country       | ISO  | Region           | Continent | Location                                | Origin | Associated Dis | Associated Dis2 | OFDA Response | Appeal | Declaration | Aid Contribution | Dis Mag Value | Dis Mag Scale | Latitude | Longitude | Local Time | River Basin | Start Year | Start Month | Start Day | End Year | End Month | End Day | Total Deaths | No Injured | No Affected | No Homeless | Total Affected | Reconstruction Costs ('000 US$) | Reconstruction Costs, Adjusted ('000 US$) | Insured Damages ('000 US$) | Insured Damages, Adjusted ('000 US$) | Total Damages ('000 US$) | Total Damages, Adjusted ('000 US$) | CPI     | Adm Level | Admin1 Code | Admin2 Code | Geo Locations\n",
       "1900-9002-CPV | 1900 | 9002 | nan   | Natural        | Climatological    | Drought       | Drought          | nan                 | nan        | Cabo Verde    | CPV  | Western Africa   | Africa    | Countrywide                             | nan    | Famine         | nan             | nan           | No     | No          | nan              | nan           | Km2           | nan      | nan       | nan        | nan         | 1900       | nan         | nan       | 1900     | nan       | nan     | 11000        | nan        | nan         | nan         | nan            | nan                             | nan                                       | nan                        | nan                                  | nan                      | nan                                | 3.07709 | nan       | nan         | nan         | nan\n",
       "1900-9001-IND | 1900 | 9001 | nan   | Natural        | Climatological    | Drought       | Drought          | nan                 | nan        | India         | IND  | Southern Asia    | Asia      | Bengal                                  | nan    | nan            | nan             | nan           | No     | No          | nan              | nan           | Km2           | nan      | nan       | nan        | nan         | 1900       | nan         | nan       | 1900     | nan       | nan     | 1.25e+06     | nan        | nan         | nan         | nan            | nan                             | nan                                       | nan                        | nan                                  | nan                      | nan                                | 3.07709 | nan       | nan         | nan         | nan\n",
       "1910-9006-BFA | 1910 | 9006 | nan   | Natural        | Climatological    | Drought       | Drought          | nan                 | nan        | Burkina Faso  | BFA  | Western Africa   | Africa    | nan                                     | nan    | nan            | nan             | nan           | nan    | nan         | nan              | nan           | Km2           | nan      | nan       | nan        | nan         | 1910       | nan         | nan       | 1914     | nan       | nan     | nan          | nan        | nan         | nan         | nan            | nan                             | nan                                       | nan                        | nan                                  | nan                      | nan                                | 3.44634 | nan       | nan         | nan         | nan\n",
       "1910-9006-CPV | 1910 | 9006 | nan   | Natural        | Climatological    | Drought       | Drought          | nan                 | nan        | Cabo Verde    | CPV  | Western Africa   | Africa    | nan                                     | nan    | nan            | nan             | nan           | nan    | nan         | nan              | nan           | Km2           | nan      | nan       | nan        | nan         | 1910       | nan         | nan       | 1914     | nan       | nan     | nan          | nan        | nan         | nan         | nan            | nan                             | nan                                       | nan                        | nan                                  | nan                      | nan                                | 3.44634 | nan       | nan         | nan         | nan\n",
       "1910-9006-GMB | 1910 | 9006 | nan   | Natural        | Climatological    | Drought       | Drought          | nan                 | nan        | Gambia (the)  | GMB  | Western Africa   | Africa    | nan                                     | nan    | nan            | nan             | nan           | nan    | nan         | nan              | nan           | Km2           | nan      | nan       | nan        | nan         | 1910       | nan         | nan       | 1914     | nan       | nan     | nan          | nan        | nan         | nan         | nan            | nan                             | nan                                       | nan                        | nan                                  | nan                      | nan                                | 3.44634 | nan       | nan         | nan         | nan\n",
       "1910-9006-GNB | 1910 | 9006 | nan   | Natural        | Climatological    | Drought       | Drought          | nan                 | nan        | Guinea-Bissau | GNB  | Western Africa   | Africa    | nan                                     | nan    | nan            | nan             | nan           | nan    | nan         | nan              | nan           | Km2           | nan      | nan       | nan        | nan         | 1910       | nan         | nan       | 1914     | nan       | nan     | nan          | nan        | nan         | nan         | nan            | nan                             | nan                                       | nan                        | nan                                  | nan                      | nan                                | 3.44634 | nan       | nan         | nan         | nan\n",
       "1911-0018-CAN | 1911 | 18   | nan   | Natural        | Climatological    | Wildfire      | Forest fire      | nan                 | nan        | Canada        | CAN  | Northern America | Americas  | Cochrane (and Northern Region), Ontario | nan    | nan            | nan             | nan           | nan    | nan         | nan              | 1.29499e+06   | Km2           | nan      | nan       | nan        | nan         | 1911       | 7           | 11        | 1911     | 7         | 11      | 73           | nan        | nan         | 200         | 200            | nan                             | nan                                       | nan                        | nan                                  | nan                      | nan                                | 3.44634 | nan       | nan         | nan         | nan\n",
       "1919-9006-AIA | 1919 | 9006 | nan   | Natural        | Climatological    | Drought       | Drought          | nan                 | nan        | Anguilla      | AIA  | Caribbean        | Americas  | nan                                     | nan    | nan            | nan             | nan           | nan    | nan         | nan              | nan           | Km2           | nan      | nan       | nan        | nan         | 1919       | nan         | nan       | 1923     | nan       | nan     | nan          | nan        | nan         | nan         | nan            | nan                             | nan                                       | nan                        | nan                                  | nan                      | nan                                | 6.41266 | nan       | nan         | nan         | nan\n",
       "1920-9004-CPV | 1920 | 9004 | nan   | Natural        | Climatological    | Drought       | Drought          | nan                 | nan        | Cabo Verde    | CPV  | Western Africa   | Africa    | Countrywide                             | nan    | Famine         | nan             | nan           | nan    | nan         | nan              | nan           | Km2           | nan      | nan       | nan        | nan         | 1920       | nan         | nan       | 1920     | nan       | nan     | 24000        | nan        | nan         | nan         | nan            | nan                             | nan                                       | nan                        | nan                                  | nan                      | nan                                | 7.40963 | nan       | nan         | nan         | nan\n",
       "1920-9003-CHN | 1920 | 9003 | nan   | Natural        | Climatological    | Drought       | Drought          | nan                 | nan        | China         | CHN  | Eastern Asia     | Asia      | North                                   | nan    | nan            | nan             | nan           | nan    | nan         | nan              | nan           | Km2           | nan      | nan       | nan        | nan         | 1920       | nan         | nan       | 1920     | nan       | nan     | 500000       | nan        | 2e+07       | nan         | 2e+07          | nan                             | nan                                       | nan                        | nan                                  | nan                      | nan                                | 7.40963 | nan       | nan         | nan         | nan\n",
       "... (1259 rows omitted)"
      ]
     },
     "execution_count": 10,
     "metadata": {},
     "output_type": "execute_result"
    }
   ],
   "source": [
    "# Just run this cell\n",
    "\n",
    "Droughts_data = Table.read_table('./Droughts.csv')\n",
    "Droughts_data\n",
    "\n",
    "# Tornado_data = Table.read_table('./Droughts.csv')"
   ]
  },
  {
   "cell_type": "markdown",
   "id": "2fe381c6",
   "metadata": {},
   "source": [
    "Question 1.1) In the cell below plot the occurence of droughts by year to be able to see if there is a trend over time we can immidiately discern! (Hint: In the cell below, assign all the times to a variable named year_column, count it using .count(), sort the counted data using .sort(), and create a graph to visualize this data.)"
   ]
  },
  {
   "cell_type": "code",
   "execution_count": 11,
   "id": "a346e51a",
   "metadata": {},
   "outputs": [],
   "source": [
    "\n",
    "\n",
    "#year_column = Droughts_data.group(\"Year\")\n",
    "#year_count = year_column.select(\"count\")\n",
    "#sorted_year_count = year_column.sort(\"count\")\n",
    "#sorted_year_count.barh('Year','count')"
   ]
  },
  {
   "cell_type": "markdown",
   "id": "afee567e",
   "metadata": {},
   "source": [
    "Question 1.2) What patterns do you notice when looking at the graph you made above by year? After doing some background research, do the patterns you have come up with match the patterns scientists accross the world made when it comes to the occurance of droughts over time? "
   ]
  },
  {
   "cell_type": "code",
   "execution_count": null,
   "id": "1e5a45d8",
   "metadata": {},
   "outputs": [],
   "source": []
  },
  {
   "cell_type": "markdown",
   "id": "34984c03",
   "metadata": {},
   "source": [
    "Question 1.3) In the cell below plot the occurence of droughts by **country** to be able to see if there is a trend in that regard we can immidiately discern!"
   ]
  },
  {
   "cell_type": "code",
   "execution_count": null,
   "id": "d4187512",
   "metadata": {},
   "outputs": [],
   "source": [
    "\n",
    "\n",
    "#country_column = Droughts_data.group(\"Country\")\n",
    "#country_count = country_column.select(\"count\")\n",
    "#sorted_country_count = country_column.sort(\"count\")\n",
    "#sorted_country_count.barh('Country','count')"
   ]
  },
  {
   "cell_type": "markdown",
   "id": "f524d57b",
   "metadata": {},
   "source": [
    "Question 1.4) What patterns do you notice when looking at the graph you made above by country? "
   ]
  },
  {
   "cell_type": "code",
   "execution_count": null,
   "id": "66756557",
   "metadata": {},
   "outputs": [],
   "source": []
  },
  {
   "cell_type": "markdown",
   "id": "6dd5cfd3",
   "metadata": {},
   "source": [
    "![Fires](https://s.hdnux.com/photos/01/21/51/67/21405124/6/1200x0.jpg)"
   ]
  },
  {
   "cell_type": "markdown",
   "id": "70fa02a4",
   "metadata": {},
   "source": [
    "Question 1.5) In the cell below plot the occurence of droughts by **Disaster Type** as there are different patterns on fires to be discussed aswell."
   ]
  },
  {
   "cell_type": "code",
   "execution_count": null,
   "id": "8acc83a0",
   "metadata": {},
   "outputs": [],
   "source": [
    "\n",
    "\n",
    "#disaster_type_column = Droughts_data.group(\"Disaster Type\")\n",
    "#disaster_type_count = disaster_type_column.select(\"count\")\n",
    "#sorted_disaster_type_count = disaster_type_column.sort(\"count\")\n",
    "#sorted_disaster_type_count.barh('Disaster Type','count')"
   ]
  },
  {
   "cell_type": "markdown",
   "id": "146faa68",
   "metadata": {},
   "source": [
    "Question 1.6) What conclusions do you arrive to when looking at this graph/data?"
   ]
  },
  {
   "cell_type": "code",
   "execution_count": null,
   "id": "c5099248",
   "metadata": {},
   "outputs": [],
   "source": []
  },
  {
   "cell_type": "markdown",
   "id": "801afb3c",
   "metadata": {},
   "source": [
    "EXIT QUESTION) In a cell below, analyze an attribute of your choosing that hasn't been discussed in the questions above and graph the data. Underneath this code cell, in a markdown cell write down any conclusions / interesting facts about the data you have chosen to look into further. Feel free to google any outside material in order to back up your concluding claims and support your answer"
   ]
  },
  {
   "cell_type": "code",
   "execution_count": null,
   "id": "04934c16",
   "metadata": {},
   "outputs": [],
   "source": []
  },
  {
   "cell_type": "markdown",
   "id": "3d39435c",
   "metadata": {},
   "source": []
  },
  {
   "cell_type": "markdown",
   "id": "29ba2468",
   "metadata": {},
   "source": [
    "# 2) Reflection Questions\n",
    "In the cell below, comment on your experience with this lab\n",
    "\n",
    "1) Is the lab interesting? if applicable, which problem is most interesting or least interesting?\n",
    "\n",
    "2) Is the lab difficult? if applicable, which problem is mostly hard for you?\n",
    "\n",
    "3) How much time did you spend on lab outside of the class?\n",
    "\n",
    "4) Any suggestions/comments on the lab and class in general?"
   ]
  },
  {
   "cell_type": "markdown",
   "id": "bd5dfd53",
   "metadata": {},
   "source": []
  }
 ],
 "metadata": {
  "kernelspec": {
   "display_name": "Python 3 (ipykernel)",
   "language": "python",
   "name": "python3"
  },
  "language_info": {
   "codemirror_mode": {
    "name": "ipython",
    "version": 3
   },
   "file_extension": ".py",
   "mimetype": "text/x-python",
   "name": "python",
   "nbconvert_exporter": "python",
   "pygments_lexer": "ipython3",
   "version": "3.9.12"
  }
 },
 "nbformat": 4,
 "nbformat_minor": 5
}
